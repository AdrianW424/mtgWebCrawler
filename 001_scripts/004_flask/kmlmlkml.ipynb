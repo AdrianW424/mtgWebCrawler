{
 "cells": [
  {
   "cell_type": "code",
   "execution_count": 1,
   "metadata": {},
   "outputs": [],
   "source": [
    "import MySQLHandler"
   ]
  },
  {
   "cell_type": "code",
   "execution_count": 2,
   "metadata": {},
   "outputs": [
    {
     "data": {
      "text/plain": [
       "'SELECT * FROM mysql WHERE name LIKE \"%Abandon%\" OR id LIKE \"%Abandon%\" OR type LIKE \"%Abandon%\"'"
      ]
     },
     "execution_count": 2,
     "metadata": {},
     "output_type": "execute_result"
    }
   ],
   "source": [
    "h = MySQLHandler.MySQLHandler()\n",
    "h.stmtHelper(\"mtg.cards_basics\", [\"name\", \"Abandon\"], [\"id\", \"Abandon\"], [\"type\", \"Abandon\"])"
   ]
  },
  {
   "cell_type": "code",
   "execution_count": null,
   "metadata": {},
   "outputs": [],
   "source": []
  }
 ],
 "metadata": {
  "kernelspec": {
   "display_name": "Python 3.10.4 64-bit",
   "language": "python",
   "name": "python3"
  },
  "language_info": {
   "codemirror_mode": {
    "name": "ipython",
    "version": 3
   },
   "file_extension": ".py",
   "mimetype": "text/x-python",
   "name": "python",
   "nbconvert_exporter": "python",
   "pygments_lexer": "ipython3",
   "version": "3.10.4"
  },
  "orig_nbformat": 4,
  "vscode": {
   "interpreter": {
    "hash": "fc33baed695a5bb14335e30a3d3eed70e7505dd1711acefe1e2909fc8eedfc84"
   }
  }
 },
 "nbformat": 4,
 "nbformat_minor": 2
}
