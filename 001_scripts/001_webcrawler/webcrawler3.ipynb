{
 "cells": [
  {
   "cell_type": "code",
   "execution_count": 1,
   "metadata": {},
   "outputs": [],
   "source": [
    "import libs.MTGCrawler as mtgc\n",
    "import libs.InfoExtractor as iE\n",
    "import libs.CSVCreator as csvc"
   ]
  },
  {
   "cell_type": "code",
   "execution_count": 2,
   "metadata": {},
   "outputs": [],
   "source": [
    "# objects\n",
    "\n",
    "crawler = mtgc.MTGCrawler()\n",
    "extractor = iE.InfoExtractor()\n",
    "csv = csvc.CSVCreator()"
   ]
  },
  {
   "cell_type": "code",
   "execution_count": 3,
   "metadata": {},
   "outputs": [
    {
     "name": "stdout",
     "output_type": "stream",
     "text": [
      "240...259\n"
     ]
    }
   ],
   "source": [
    "htmls = await crawler.main(offset=240)"
   ]
  },
  {
   "cell_type": "code",
   "execution_count": null,
   "metadata": {},
   "outputs": [],
   "source": []
  }
 ],
 "metadata": {
  "kernelspec": {
   "display_name": "Python 3.10.4 64-bit",
   "language": "python",
   "name": "python3"
  },
  "language_info": {
   "codemirror_mode": {
    "name": "ipython",
    "version": 3
   },
   "file_extension": ".py",
   "mimetype": "text/x-python",
   "name": "python",
   "nbconvert_exporter": "python",
   "pygments_lexer": "ipython3",
   "version": "3.10.4"
  },
  "orig_nbformat": 4,
  "vscode": {
   "interpreter": {
    "hash": "fc33baed695a5bb14335e30a3d3eed70e7505dd1711acefe1e2909fc8eedfc84"
   }
  }
 },
 "nbformat": 4,
 "nbformat_minor": 2
}
